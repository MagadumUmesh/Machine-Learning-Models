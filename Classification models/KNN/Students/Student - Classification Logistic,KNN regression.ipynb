{
 "cells": [
  {
   "cell_type": "code",
   "execution_count": 39,
   "id": "fdcdbb2c",
   "metadata": {},
   "outputs": [
    {
     "name": "stdout",
     "output_type": "stream",
     "text": [
      "<bound method NDFrame.head of        JEEPRE   JEEMAINS  STATUS\n",
      "0   34.623660  78.024693       0\n",
      "1   30.286711  43.894998       0\n",
      "2   35.847409  72.902198       0\n",
      "3   60.182599  86.308552       1\n",
      "4   79.032736  75.344376       1\n",
      "..        ...        ...     ...\n",
      "95  83.489163  48.380286       1\n",
      "96  42.261701  87.103851       1\n",
      "97  99.315009  68.775409       1\n",
      "98  55.340018  64.931938       1\n",
      "99  74.775893  89.529813       1\n",
      "\n",
      "[100 rows x 3 columns]>\n",
      "          count       mean        std        min        25%        50%  \\\n",
      "JEEPRE    100.0  65.644274  19.458222  30.058822  50.919511  67.032988   \n",
      "JEEMAINS  100.0  66.221998  18.582783  30.603263  48.179205  67.682381   \n",
      "STATUS    100.0   0.600000   0.492366   0.000000   0.000000   1.000000   \n",
      "\n",
      "                75%        max  \n",
      "JEEPRE    80.212529  99.827858  \n",
      "JEEMAINS  79.360605  98.869436  \n",
      "STATUS     1.000000   1.000000  \n",
      "(80, 2)\n",
      "(80,)\n",
      "(20, 2)\n",
      "(20,)\n",
      "Model Training is completed\n",
      "Accuracy -  0.85\n",
      "Misclassification -  0.15000000000000002\n"
     ]
    },
    {
     "data": {
      "image/png": "[encoded data removed]",
      "text/plain": [
       "<Figure size 640x480 with 2 Axes>"
      ]
     },
     "metadata": {},
     "output_type": "display_data"
    }
   ],
   "source": [
    "\n",
    "import pandas as pd\n",
    "import numpy as np\n",
    "import seaborn as sns\n",
    "from sklearn.model_selection import train_test_split\n",
    "import matplotlib.pyplot as plt\n",
    "import math as m\n",
    "from sklearn.linear_model import LinearRegression\n",
    "from sklearn.metrics import r2_score, mean_squared_error\n",
    "from sklearn.preprocessing import StandardScaler\n",
    "from sklearn.linear_model import LogisticRegression\n",
    "from sklearn.metrics import confusion_matrix\n",
    "from sklearn.metrics import accuracy_score\n",
    "\n",
    "\n",
    "data = pd.read_csv('C:/Users/OM/Downloads/Students.csv')\n",
    "data\n",
    "\n",
    "\n",
    "def read_data():\n",
    "    path = 'C:/Users/OM/Downloads/'\n",
    "    filename = 'Students.csv'\n",
    "    data = pd.read_csv(path+filename)\n",
    "    print(data.shape)\n",
    "    return data\n",
    "    \n",
    "print(data.head)\n",
    "\n",
    "print(data.describe().T)\n",
    "\n",
    "data.columns\n",
    "\n",
    "X = data[['JEEPRE','JEEMAINS']]   \n",
    "Y = data['STATUS']\n",
    "\n",
    "def train_test(X,Y):\n",
    "    X_train,X_test,Y_train,Y_test = train_test_split (X,Y,test_size = 0.2,random_state = 1234)\n",
    "    print(X_train.shape),print(Y_train.shape)\n",
    "    print(X_test.shape),print(Y_test.shape)\n",
    "    return X_train,X_test,Y_train,Y_test\n",
    "\n",
    "\n",
    "X_train,X_test,Y_train,Y_test = train_test(X,Y)\n",
    "\n",
    "#modeling\n",
    "def modelling (X_train,Y_train,X_test):\n",
    "    model = LogisticRegression()\n",
    "    model_train = model.fit(X_train,Y_train)\n",
    "    print(\"Model Training is completed\")\n",
    "    pred = model_train.predict(X_test)\n",
    "    return pred\n",
    "   \n",
    "pred = modelling(X_train,Y_train,X_test)\n",
    "pred.reshape(-1,1)\n",
    "\n",
    "Y_test\n",
    "\n",
    "#diagonistics of classification model\n",
    "#confusion matrix \n",
    "from sklearn.metrics import confusion_matrix\n",
    "confusion_matrix(Y_test,pred)\n",
    "\n",
    "\n",
    "sns.heatmap(confusion_matrix(Y_test,pred),annot = True)\n",
    "\n",
    "accuracy_score(Y_test,pred)\n",
    "1-accuracy_score(Y_test,pred)\n",
    "print('Accuracy - ',accuracy_score(Y_test,pred))\n",
    "print('Misclassification - ',1-accuracy_score(Y_test,pred))\n"
   ]
  },
  {
   "cell_type": "code",
   "execution_count": 33,
   "id": "760a444e",
   "metadata": {},
   "outputs": [
    {
     "name": "stdout",
     "output_type": "stream",
     "text": [
      "Dont use denominator as zero\n"
     ]
    }
   ],
   "source": [
    "## try is used to eliminate error line in above code (if any error occured means it will be handeled by this)\n",
    "\n",
    "\n",
    "try: \n",
    "    23/0\n",
    "except ZeroDivisionError as e:\n",
    "    print(\"Dont use denominator as zero\")"
   ]
  },
  {
   "cell_type": "code",
   "execution_count": 36,
   "id": "66c6461d",
   "metadata": {},
   "outputs": [],
   "source": [
    "from sklearn.neighbors import KNeighborsClassifier"
   ]
  },
  {
   "cell_type": "code",
   "execution_count": 38,
   "id": "63329e83",
   "metadata": {},
   "outputs": [
    {
     "name": "stdout",
     "output_type": "stream",
     "text": [
      "Model Training is completed\n",
      "Accuracy -  0.85\n",
      "Misclassification -  0.15000000000000002\n"
     ]
    },
    {
     "data": {
      "image/png": "[encoded data removed]",
      "text/plain": [
       "<Figure size 640x480 with 2 Axes>"
      ]
     },
     "metadata": {},
     "output_type": "display_data"
    }
   ],
   "source": [
    "def knn_modelling (X_train,Y_train,X_test):\n",
    "    model_knn = KNeighborsClassifier(n_neighbors=5)\n",
    "    model_knn_train = model_knn.fit(X_train,Y_train)\n",
    "    print(\"Model Training is completed\")\n",
    "    pred_knn = model_knn_train.predict(X_test)\n",
    "    return pred_knn\n",
    "   \n",
    "pred_knn = knn_modelling(X_train,Y_train,X_test)\n",
    "pred_knn.reshape(-1,1)\n",
    "\n",
    "Y_test\n",
    "\n",
    "#diagonistics of classification model\n",
    "#confusion matrix \n",
    "from sklearn.metrics import confusion_matrix\n",
    "confusion_matrix(Y_test,pred_knn)\n",
    "\n",
    "\n",
    "sns.heatmap(confusion_matrix(Y_test,pred_knn),annot = True)\n",
    "\n",
    "accuracy_score(Y_test,pred_knn)\n",
    "1-accuracy_score(Y_test,pred_knn)\n",
    "print('Accuracy - ',accuracy_score(Y_test,pred_knn))\n",
    "print('Misclassification - ',1-accuracy_score(Y_test,pred_knn))"
   ]
  },
  {
   "cell_type": "code",
   "execution_count": null,
   "id": "8df3b517",
   "metadata": {},
   "outputs": [],
   "source": []
  },
  {
   "cell_type": "code",
   "execution_count": null,
   "id": "3171f15f",
   "metadata": {},
   "outputs": [],
   "source": []
  }
 ],
 "metadata": {
  "kernelspec": {
   "display_name": "Python 3 (ipykernel)",
   "language": "python",
   "name": "python3"
  },
  "language_info": {
   "codemirror_mode": {
    "name": "ipython",
    "version": 3
   },
   "file_extension": ".py",
   "mimetype": "text/x-python",
   "name": "python",
   "nbconvert_exporter": "python",
   "pygments_lexer": "ipython3",
   "version": "3.10.9"
  }
 },
 "nbformat": 4,
 "nbformat_minor": 5
}
